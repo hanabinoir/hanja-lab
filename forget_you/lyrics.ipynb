{
 "cells": [
  {
   "cell_type": "code",
   "execution_count": 3,
   "metadata": {},
   "outputs": [],
   "source": [
    "words = []\n",
    "\n",
    "# Open the file in read mode\n",
    "with open('word_list.txt', 'r', encoding='utf-8') as file:\n",
    "    # Read each line in the file\n",
    "    lines = file.readlines()\n",
    "    # Process each line\n",
    "    for line in lines:\n",
    "        # Extract the Hangul part (text before \" >\")\n",
    "        hangul = line.split('>')[0].strip()\n",
    "        # Extract the Hanja part (text inside \"()\")\n",
    "        hanja = line.split('>')[-1].strip()\n",
    "        # Create a dictionary for the word\n",
    "        word = {\n",
    "            \"hangul\": hangul,\n",
    "            \"hanja\": hanja\n",
    "        }\n",
    "        # Append the dictionary to the words list\n",
    "        words.append(word)\n",
    "        # print(word)\n",
    "\n",
    "# Read the lyrics.txt file\n",
    "with open('lyrics.txt', 'r', encoding='utf-8') as file:\n",
    "    lyrics = file.read()\n",
    "\n",
    "# Replace Hangul words with Hanja in the lyrics\n",
    "for word in words:\n",
    "    lyrics = lyrics.replace(word[\"hangul\"], word[\"hanja\"])\n",
    "\n",
    "# Save the modified lyrics to converted.txt\n",
    "with open('converted.txt', 'w', encoding='utf-8') as file:\n",
    "    file.write(lyrics)"
   ]
  }
 ],
 "metadata": {
  "kernelspec": {
   "display_name": ".venv",
   "language": "python",
   "name": "python3"
  },
  "language_info": {
   "codemirror_mode": {
    "name": "ipython",
    "version": 3
   },
   "file_extension": ".py",
   "mimetype": "text/x-python",
   "name": "python",
   "nbconvert_exporter": "python",
   "pygments_lexer": "ipython3",
   "version": "3.13.1"
  }
 },
 "nbformat": 4,
 "nbformat_minor": 2
}
